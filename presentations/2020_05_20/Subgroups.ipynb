{
 "cells": [
  {
   "cell_type": "code",
   "execution_count": 1,
   "metadata": {
    "pycharm": {
     "is_executing": false
    }
   },
   "outputs": [],
   "source": [
    "import pandas as pd\n",
    "import pysubgroup as ps\n",
    "from os import path"
   ]
  },
  {
   "cell_type": "code",
   "execution_count": 4,
   "metadata": {
    "pycharm": {
     "is_executing": false,
     "name": "#%%\n"
    }
   },
   "outputs": [
    {
     "data": {
      "text/html": [
       "<div>\n",
       "<style scoped>\n",
       "    .dataframe tbody tr th:only-of-type {\n",
       "        vertical-align: middle;\n",
       "    }\n",
       "\n",
       "    .dataframe tbody tr th {\n",
       "        vertical-align: top;\n",
       "    }\n",
       "\n",
       "    .dataframe thead th {\n",
       "        text-align: right;\n",
       "    }\n",
       "</style>\n",
       "<table border=\"1\" class=\"dataframe\">\n",
       "  <thead>\n",
       "    <tr style=\"text-align: right;\">\n",
       "      <th></th>\n",
       "      <th>average_degree</th>\n",
       "      <th>density</th>\n",
       "      <th>longest_path</th>\n",
       "      <th>degree_centralization</th>\n",
       "      <th>betweenness_centralization</th>\n",
       "      <th>003</th>\n",
       "      <th>012</th>\n",
       "      <th>021D</th>\n",
       "      <th>021U</th>\n",
       "      <th>021C</th>\n",
       "      <th>030T</th>\n",
       "      <th>dominant_topic</th>\n",
       "    </tr>\n",
       "    <tr>\n",
       "      <th>Unnamed: 0</th>\n",
       "      <th></th>\n",
       "      <th></th>\n",
       "      <th></th>\n",
       "      <th></th>\n",
       "      <th></th>\n",
       "      <th></th>\n",
       "      <th></th>\n",
       "      <th></th>\n",
       "      <th></th>\n",
       "      <th></th>\n",
       "      <th></th>\n",
       "      <th></th>\n",
       "    </tr>\n",
       "  </thead>\n",
       "  <tbody>\n",
       "    <tr>\n",
       "      <th>805443722</th>\n",
       "      <td>1.971119</td>\n",
       "      <td>0.003571</td>\n",
       "      <td>0.039711</td>\n",
       "      <td>0.233676</td>\n",
       "      <td>0.000489</td>\n",
       "      <td>12387.747292</td>\n",
       "      <td>253.530686</td>\n",
       "      <td>0.021661</td>\n",
       "      <td>8.061372</td>\n",
       "      <td>0.584838</td>\n",
       "      <td>0.054152</td>\n",
       "      <td>4</td>\n",
       "    </tr>\n",
       "    <tr>\n",
       "      <th>805452109</th>\n",
       "      <td>1.984615</td>\n",
       "      <td>0.003831</td>\n",
       "      <td>0.042308</td>\n",
       "      <td>0.268534</td>\n",
       "      <td>0.000792</td>\n",
       "      <td>10892.280769</td>\n",
       "      <td>233.453846</td>\n",
       "      <td>0.396154</td>\n",
       "      <td>10.180769</td>\n",
       "      <td>0.657692</td>\n",
       "      <td>0.030769</td>\n",
       "      <td>1</td>\n",
       "    </tr>\n",
       "    <tr>\n",
       "      <th>805453752</th>\n",
       "      <td>2.032787</td>\n",
       "      <td>0.003343</td>\n",
       "      <td>0.029508</td>\n",
       "      <td>0.311143</td>\n",
       "      <td>0.000982</td>\n",
       "      <td>15060.629508</td>\n",
       "      <td>274.786885</td>\n",
       "      <td>0.111475</td>\n",
       "      <td>15.819672</td>\n",
       "      <td>0.639344</td>\n",
       "      <td>0.013115</td>\n",
       "      <td>4</td>\n",
       "    </tr>\n",
       "    <tr>\n",
       "      <th>805455311</th>\n",
       "      <td>2.139241</td>\n",
       "      <td>0.003396</td>\n",
       "      <td>0.056962</td>\n",
       "      <td>0.188050</td>\n",
       "      <td>0.001200</td>\n",
       "      <td>16156.401899</td>\n",
       "      <td>321.373418</td>\n",
       "      <td>0.082278</td>\n",
       "      <td>6.177215</td>\n",
       "      <td>0.927215</td>\n",
       "      <td>0.037975</td>\n",
       "      <td>4</td>\n",
       "    </tr>\n",
       "    <tr>\n",
       "      <th>805455361</th>\n",
       "      <td>2.251572</td>\n",
       "      <td>0.003551</td>\n",
       "      <td>0.031447</td>\n",
       "      <td>0.313481</td>\n",
       "      <td>0.000521</td>\n",
       "      <td>16357.632075</td>\n",
       "      <td>319.694969</td>\n",
       "      <td>0.707547</td>\n",
       "      <td>16.279874</td>\n",
       "      <td>0.977987</td>\n",
       "      <td>0.040881</td>\n",
       "      <td>4</td>\n",
       "    </tr>\n",
       "    <tr>\n",
       "      <th>805459722</th>\n",
       "      <td>2.058442</td>\n",
       "      <td>0.003353</td>\n",
       "      <td>0.042208</td>\n",
       "      <td>0.478487</td>\n",
       "      <td>0.000623</td>\n",
       "      <td>15378.159091</td>\n",
       "      <td>242.759740</td>\n",
       "      <td>0.016234</td>\n",
       "      <td>35.480519</td>\n",
       "      <td>0.564935</td>\n",
       "      <td>0.019481</td>\n",
       "      <td>2</td>\n",
       "    </tr>\n",
       "    <tr>\n",
       "      <th>805466053</th>\n",
       "      <td>1.927419</td>\n",
       "      <td>0.003902</td>\n",
       "      <td>0.064516</td>\n",
       "      <td>0.155393</td>\n",
       "      <td>0.001369</td>\n",
       "      <td>9894.221774</td>\n",
       "      <td>228.540323</td>\n",
       "      <td>0.181452</td>\n",
       "      <td>3.350806</td>\n",
       "      <td>0.649194</td>\n",
       "      <td>0.056452</td>\n",
       "      <td>0</td>\n",
       "    </tr>\n",
       "    <tr>\n",
       "      <th>805467158</th>\n",
       "      <td>1.767606</td>\n",
       "      <td>0.003123</td>\n",
       "      <td>0.066901</td>\n",
       "      <td>0.050648</td>\n",
       "      <td>0.002721</td>\n",
       "      <td>13053.524648</td>\n",
       "      <td>245.739437</td>\n",
       "      <td>0.056338</td>\n",
       "      <td>1.193662</td>\n",
       "      <td>0.464789</td>\n",
       "      <td>0.021127</td>\n",
       "      <td>4</td>\n",
       "    </tr>\n",
       "    <tr>\n",
       "      <th>805467799</th>\n",
       "      <td>1.681356</td>\n",
       "      <td>0.002859</td>\n",
       "      <td>0.020339</td>\n",
       "      <td>0.042186</td>\n",
       "      <td>0.000200</td>\n",
       "      <td>14112.169492</td>\n",
       "      <td>243.355932</td>\n",
       "      <td>0.006780</td>\n",
       "      <td>1.145763</td>\n",
       "      <td>0.308475</td>\n",
       "      <td>0.013559</td>\n",
       "      <td>1</td>\n",
       "    </tr>\n",
       "    <tr>\n",
       "      <th>805468021</th>\n",
       "      <td>2.117241</td>\n",
       "      <td>0.003663</td>\n",
       "      <td>0.106897</td>\n",
       "      <td>0.097150</td>\n",
       "      <td>0.008558</td>\n",
       "      <td>13570.248276</td>\n",
       "      <td>298.634483</td>\n",
       "      <td>0.158621</td>\n",
       "      <td>1.910345</td>\n",
       "      <td>1.034483</td>\n",
       "      <td>0.013793</td>\n",
       "      <td>4</td>\n",
       "    </tr>\n",
       "  </tbody>\n",
       "</table>\n",
       "</div>"
      ],
      "text/plain": [
       "            average_degree   density  longest_path  degree_centralization  \\\n",
       "Unnamed: 0                                                                  \n",
       "805443722         1.971119  0.003571      0.039711               0.233676   \n",
       "805452109         1.984615  0.003831      0.042308               0.268534   \n",
       "805453752         2.032787  0.003343      0.029508               0.311143   \n",
       "805455311         2.139241  0.003396      0.056962               0.188050   \n",
       "805455361         2.251572  0.003551      0.031447               0.313481   \n",
       "805459722         2.058442  0.003353      0.042208               0.478487   \n",
       "805466053         1.927419  0.003902      0.064516               0.155393   \n",
       "805467158         1.767606  0.003123      0.066901               0.050648   \n",
       "805467799         1.681356  0.002859      0.020339               0.042186   \n",
       "805468021         2.117241  0.003663      0.106897               0.097150   \n",
       "\n",
       "            betweenness_centralization           003         012      021D  \\\n",
       "Unnamed: 0                                                                   \n",
       "805443722                     0.000489  12387.747292  253.530686  0.021661   \n",
       "805452109                     0.000792  10892.280769  233.453846  0.396154   \n",
       "805453752                     0.000982  15060.629508  274.786885  0.111475   \n",
       "805455311                     0.001200  16156.401899  321.373418  0.082278   \n",
       "805455361                     0.000521  16357.632075  319.694969  0.707547   \n",
       "805459722                     0.000623  15378.159091  242.759740  0.016234   \n",
       "805466053                     0.001369   9894.221774  228.540323  0.181452   \n",
       "805467158                     0.002721  13053.524648  245.739437  0.056338   \n",
       "805467799                     0.000200  14112.169492  243.355932  0.006780   \n",
       "805468021                     0.008558  13570.248276  298.634483  0.158621   \n",
       "\n",
       "                 021U      021C      030T  dominant_topic  \n",
       "Unnamed: 0                                                 \n",
       "805443722    8.061372  0.584838  0.054152               4  \n",
       "805452109   10.180769  0.657692  0.030769               1  \n",
       "805453752   15.819672  0.639344  0.013115               4  \n",
       "805455311    6.177215  0.927215  0.037975               4  \n",
       "805455361   16.279874  0.977987  0.040881               4  \n",
       "805459722   35.480519  0.564935  0.019481               2  \n",
       "805466053    3.350806  0.649194  0.056452               0  \n",
       "805467158    1.193662  0.464789  0.021127               4  \n",
       "805467799    1.145763  0.308475  0.013559               1  \n",
       "805468021    1.910345  1.034483  0.013793               4  "
      ]
     },
     "execution_count": 4,
     "metadata": {},
     "output_type": "execute_result"
    }
   ],
   "source": [
    "data = pd.read_csv(\"graph_features.csv\")\n",
    "data.index = data[\"Unnamed: 0\"]\n",
    "data = data.drop(columns=\"Unnamed: 0\")\n",
    "data.head(10)"
   ]
  },
  {
   "cell_type": "markdown",
   "metadata": {
    "pycharm": {
     "name": "#%%\n"
    }
   },
   "source": [
    "## Search for subgroups in the whole data set"
   ]
  },
  {
   "cell_type": "code",
   "execution_count": 5,
   "metadata": {
    "pycharm": {
     "is_executing": false,
     "name": "#%%\n"
    }
   },
   "outputs": [],
   "source": [
    "ps_target = ps.NumericTarget('dominant_topic')\n",
    "ps_search_space = ps.create_selectors(data, ignore=['dominant_topic'])\n",
    "ps_task = ps.SubgroupDiscoveryTask(data, ps_target, ps_search_space, qf=ps.StandardQFNumeric(1))\n",
    "result = ps.DFSNumeric().execute(ps_task)\n"
   ]
  },
  {
   "cell_type": "code",
   "execution_count": 11,
   "metadata": {
    "pycharm": {
     "is_executing": false,
     "name": "#%%\n"
    }
   },
   "outputs": [
    {
     "data": {
      "text/html": [
       "<div>\n",
       "<style scoped>\n",
       "    .dataframe tbody tr th:only-of-type {\n",
       "        vertical-align: middle;\n",
       "    }\n",
       "\n",
       "    .dataframe tbody tr th {\n",
       "        vertical-align: top;\n",
       "    }\n",
       "\n",
       "    .dataframe thead th {\n",
       "        text-align: right;\n",
       "    }\n",
       "</style>\n",
       "<table border=\"1\" class=\"dataframe\">\n",
       "  <thead>\n",
       "    <tr style=\"text-align: right;\">\n",
       "      <th></th>\n",
       "      <th>quality</th>\n",
       "      <th>description</th>\n",
       "    </tr>\n",
       "  </thead>\n",
       "  <tbody>\n",
       "    <tr>\n",
       "      <th>0</th>\n",
       "      <td>520.504171</td>\n",
       "      <td>030T: [0.01:0.03[</td>\n",
       "    </tr>\n",
       "    <tr>\n",
       "      <th>1</th>\n",
       "      <td>460.417362</td>\n",
       "      <td>021U: [4.78:11.56[</td>\n",
       "    </tr>\n",
       "    <tr>\n",
       "      <th>2</th>\n",
       "      <td>450.417362</td>\n",
       "      <td>degree_centralization: [0.17:0.27[</td>\n",
       "    </tr>\n",
       "    <tr>\n",
       "      <th>3</th>\n",
       "      <td>412.417362</td>\n",
       "      <td>030T&lt;0.01</td>\n",
       "    </tr>\n",
       "    <tr>\n",
       "      <th>4</th>\n",
       "      <td>405.873957</td>\n",
       "      <td>021D&gt;=0.21</td>\n",
       "    </tr>\n",
       "    <tr>\n",
       "      <th>5</th>\n",
       "      <td>405.085882</td>\n",
       "      <td>021U: [4.78:11.56[ AND degree_centralization: ...</td>\n",
       "    </tr>\n",
       "    <tr>\n",
       "      <th>6</th>\n",
       "      <td>367.873957</td>\n",
       "      <td>003&gt;=15432.11</td>\n",
       "    </tr>\n",
       "    <tr>\n",
       "      <th>7</th>\n",
       "      <td>345.873957</td>\n",
       "      <td>degree_centralization&gt;=0.27</td>\n",
       "    </tr>\n",
       "    <tr>\n",
       "      <th>8</th>\n",
       "      <td>335.873957</td>\n",
       "      <td>021U&gt;=11.56</td>\n",
       "    </tr>\n",
       "    <tr>\n",
       "      <th>9</th>\n",
       "      <td>316.198641</td>\n",
       "      <td>021U&gt;=11.56 AND degree_centralization&gt;=0.27</td>\n",
       "    </tr>\n",
       "  </tbody>\n",
       "</table>\n",
       "</div>"
      ],
      "text/plain": [
       "      quality                                        description\n",
       "0  520.504171                                  030T: [0.01:0.03[\n",
       "1  460.417362                                 021U: [4.78:11.56[\n",
       "2  450.417362                 degree_centralization: [0.17:0.27[\n",
       "3  412.417362                                          030T<0.01\n",
       "4  405.873957                                         021D>=0.21\n",
       "5  405.085882  021U: [4.78:11.56[ AND degree_centralization: ...\n",
       "6  367.873957                                      003>=15432.11\n",
       "7  345.873957                        degree_centralization>=0.27\n",
       "8  335.873957                                        021U>=11.56\n",
       "9  316.198641        021U>=11.56 AND degree_centralization>=0.27"
      ]
     },
     "execution_count": 11,
     "metadata": {},
     "output_type": "execute_result"
    }
   ],
   "source": [
    "result.to_dataframe()"
   ]
  },
  {
   "cell_type": "markdown",
   "metadata": {
    "pycharm": {
     "name": "#%%\n"
    }
   },
   "source": [
    "## Search for subgroups within the topics found by LDA"
   ]
  },
  {
   "cell_type": "code",
   "execution_count": 9,
   "metadata": {
    "pycharm": {
     "is_executing": false,
     "name": "#%%\n"
    }
   },
   "outputs": [],
   "source": [
    "result_dict = {}\n",
    "ps_target = ps.NumericTarget('dominant_topic')\n",
    "for topic_no in data.dominant_topic.unique():\n",
    "    topic_data = data[data.dominant_topic == topic_no]\n",
    "    ps_search_space = ps.create_nominal_selectors(topic_data, ignore=['dominant_topic'])\n",
    "    ps_task = ps.SubgroupDiscoveryTask(topic_data, ps_target, ps_search_space, qf=ps.StandardQFNumeric(1))\n",
    "    result_dict[topic_no] = ps.DFSNumeric().execute(ps_task)"
   ]
  },
  {
   "cell_type": "code",
   "execution_count": 10,
   "metadata": {
    "pycharm": {
     "is_executing": false,
     "name": "#%%\n"
    }
   },
   "outputs": [
    {
     "name": "stdout",
     "output_type": "stream",
     "text": [
      "Result for topic no 4: Empty DataFrame\n",
      "Columns: [quality, description]\n",
      "Index: []\n",
      "Result for topic no 1: Empty DataFrame\n",
      "Columns: [quality, description]\n",
      "Index: []\n",
      "Result for topic no 2: Empty DataFrame\n",
      "Columns: [quality, description]\n",
      "Index: []\n",
      "Result for topic no 0: Empty DataFrame\n",
      "Columns: [quality, description]\n",
      "Index: []\n",
      "Result for topic no 3: Empty DataFrame\n",
      "Columns: [quality, description]\n",
      "Index: []\n"
     ]
    }
   ],
   "source": [
    "for topic_no, subgroup_result in result_dict.items():\n",
    "    print(f\"Result for topic no {topic_no}: {subgroup_result.to_dataframe()}\")"
   ]
  },
  {
   "cell_type": "markdown",
   "metadata": {
    "pycharm": {
     "is_executing": false,
     "name": "#%%\n"
    }
   },
   "source": [
    "## Reproducing the bug"
   ]
  },
  {
   "cell_type": "markdown",
   "metadata": {},
   "source": [
    "With passing a integer to StandardQFNumeric:"
   ]
  },
  {
   "cell_type": "code",
   "execution_count": 7,
   "metadata": {},
   "outputs": [
    {
     "ename": "TypeError",
     "evalue": "unsupported operand type(s) for -: 'method' and 'float'",
     "output_type": "error",
     "traceback": [
      "\u001b[0;31m---------------------------------------------------------------------------\u001b[0m",
      "\u001b[0;31mTypeError\u001b[0m                                 Traceback (most recent call last)",
      "\u001b[0;32m<ipython-input-7-4ced912f5512>\u001b[0m in \u001b[0;36m<module>\u001b[0;34m\u001b[0m\n\u001b[1;32m      2\u001b[0m \u001b[0mps_search_space\u001b[0m \u001b[0;34m=\u001b[0m \u001b[0mps\u001b[0m\u001b[0;34m.\u001b[0m\u001b[0mcreate_selectors\u001b[0m\u001b[0;34m(\u001b[0m\u001b[0mdata\u001b[0m\u001b[0;34m,\u001b[0m \u001b[0mignore\u001b[0m\u001b[0;34m=\u001b[0m\u001b[0;34m[\u001b[0m\u001b[0;34m'dominant_topic'\u001b[0m\u001b[0;34m]\u001b[0m\u001b[0;34m)\u001b[0m\u001b[0;34m\u001b[0m\u001b[0;34m\u001b[0m\u001b[0m\n\u001b[1;32m      3\u001b[0m \u001b[0mps_task\u001b[0m \u001b[0;34m=\u001b[0m \u001b[0mps\u001b[0m\u001b[0;34m.\u001b[0m\u001b[0mSubgroupDiscoveryTask\u001b[0m\u001b[0;34m(\u001b[0m\u001b[0mdata\u001b[0m\u001b[0;34m,\u001b[0m \u001b[0mps_target\u001b[0m\u001b[0;34m,\u001b[0m \u001b[0mps_search_space\u001b[0m\u001b[0;34m,\u001b[0m \u001b[0mqf\u001b[0m\u001b[0;34m=\u001b[0m\u001b[0mps\u001b[0m\u001b[0;34m.\u001b[0m\u001b[0mStandardQFNumeric\u001b[0m\u001b[0;34m(\u001b[0m\u001b[0;36m1\u001b[0m\u001b[0;34m)\u001b[0m\u001b[0;34m)\u001b[0m\u001b[0;34m\u001b[0m\u001b[0;34m\u001b[0m\u001b[0m\n\u001b[0;32m----> 4\u001b[0;31m \u001b[0mresult\u001b[0m \u001b[0;34m=\u001b[0m \u001b[0mps\u001b[0m\u001b[0;34m.\u001b[0m\u001b[0mBeamSearch\u001b[0m\u001b[0;34m(\u001b[0m\u001b[0;34m)\u001b[0m\u001b[0;34m.\u001b[0m\u001b[0mexecute\u001b[0m\u001b[0;34m(\u001b[0m\u001b[0mps_task\u001b[0m\u001b[0;34m)\u001b[0m\u001b[0;34m\u001b[0m\u001b[0;34m\u001b[0m\u001b[0m\n\u001b[0m",
      "\u001b[0;32m/media/hannes/Volume1/Dropbox/Uni/Masterarbeit/code/py36_env/lib/python3.6/site-packages/pysubgroup-0.7.0-py3.6.egg/pysubgroup/algorithms.py\u001b[0m in \u001b[0;36mexecute\u001b[0;34m(self, task)\u001b[0m\n\u001b[1;32m    289\u001b[0m                             \u001b[0mnew_selectors\u001b[0m\u001b[0;34m.\u001b[0m\u001b[0mappend\u001b[0m\u001b[0;34m(\u001b[0m\u001b[0msel\u001b[0m\u001b[0;34m)\u001b[0m\u001b[0;34m\u001b[0m\u001b[0;34m\u001b[0m\u001b[0m\n\u001b[1;32m    290\u001b[0m                             \u001b[0msg\u001b[0m \u001b[0;34m=\u001b[0m \u001b[0mps\u001b[0m\u001b[0;34m.\u001b[0m\u001b[0mConjunction\u001b[0m\u001b[0;34m(\u001b[0m\u001b[0mnew_selectors\u001b[0m\u001b[0;34m)\u001b[0m\u001b[0;34m\u001b[0m\u001b[0;34m\u001b[0m\u001b[0m\n\u001b[0;32m--> 291\u001b[0;31m                             \u001b[0mquality\u001b[0m \u001b[0;34m=\u001b[0m \u001b[0mtask\u001b[0m\u001b[0;34m.\u001b[0m\u001b[0mqf\u001b[0m\u001b[0;34m.\u001b[0m\u001b[0mevaluate\u001b[0m\u001b[0;34m(\u001b[0m\u001b[0msg\u001b[0m\u001b[0;34m,\u001b[0m \u001b[0mtask\u001b[0m\u001b[0;34m.\u001b[0m\u001b[0mdata\u001b[0m\u001b[0;34m)\u001b[0m\u001b[0;34m\u001b[0m\u001b[0;34m\u001b[0m\u001b[0m\n\u001b[0m\u001b[1;32m    292\u001b[0m                             \u001b[0mps\u001b[0m\u001b[0;34m.\u001b[0m\u001b[0madd_if_required\u001b[0m\u001b[0;34m(\u001b[0m\u001b[0mbeam\u001b[0m\u001b[0;34m,\u001b[0m \u001b[0msg\u001b[0m\u001b[0;34m,\u001b[0m \u001b[0mquality\u001b[0m\u001b[0;34m,\u001b[0m \u001b[0mtask\u001b[0m\u001b[0;34m,\u001b[0m \u001b[0mcheck_for_duplicates\u001b[0m\u001b[0;34m=\u001b[0m\u001b[0;32mTrue\u001b[0m\u001b[0;34m)\u001b[0m\u001b[0;34m\u001b[0m\u001b[0;34m\u001b[0m\u001b[0m\n\u001b[1;32m    293\u001b[0m             \u001b[0mdepth\u001b[0m \u001b[0;34m+=\u001b[0m \u001b[0;36m1\u001b[0m\u001b[0;34m\u001b[0m\u001b[0;34m\u001b[0m\u001b[0m\n",
      "\u001b[0;32m/media/hannes/Volume1/Dropbox/Uni/Masterarbeit/code/py36_env/lib/python3.6/site-packages/pysubgroup-0.7.0-py3.6.egg/pysubgroup/numeric_target.py\u001b[0m in \u001b[0;36mevaluate\u001b[0;34m(self, subgroup, statistics)\u001b[0m\n\u001b[1;32m    100\u001b[0m         \u001b[0mstatistics\u001b[0m \u001b[0;34m=\u001b[0m \u001b[0mself\u001b[0m\u001b[0;34m.\u001b[0m\u001b[0mensure_statistics\u001b[0m\u001b[0;34m(\u001b[0m\u001b[0msubgroup\u001b[0m\u001b[0;34m,\u001b[0m \u001b[0mstatistics\u001b[0m\u001b[0;34m)\u001b[0m\u001b[0;34m\u001b[0m\u001b[0;34m\u001b[0m\u001b[0m\n\u001b[1;32m    101\u001b[0m         \u001b[0mdataset\u001b[0m \u001b[0;34m=\u001b[0m \u001b[0mself\u001b[0m\u001b[0;34m.\u001b[0m\u001b[0mdataset_statistics\u001b[0m\u001b[0;34m\u001b[0m\u001b[0;34m\u001b[0m\u001b[0m\n\u001b[0;32m--> 102\u001b[0;31m         \u001b[0;32mreturn\u001b[0m \u001b[0mStandardQFNumeric\u001b[0m\u001b[0;34m.\u001b[0m\u001b[0mstandard_qf_numeric\u001b[0m\u001b[0;34m(\u001b[0m\u001b[0mself\u001b[0m\u001b[0;34m.\u001b[0m\u001b[0ma\u001b[0m\u001b[0;34m,\u001b[0m \u001b[0mdataset\u001b[0m\u001b[0;34m.\u001b[0m\u001b[0msize\u001b[0m\u001b[0;34m,\u001b[0m \u001b[0mdataset\u001b[0m\u001b[0;34m.\u001b[0m\u001b[0mmean\u001b[0m\u001b[0;34m,\u001b[0m \u001b[0mstatistics\u001b[0m\u001b[0;34m.\u001b[0m\u001b[0msize\u001b[0m\u001b[0;34m,\u001b[0m \u001b[0mstatistics\u001b[0m\u001b[0;34m.\u001b[0m\u001b[0mmean\u001b[0m\u001b[0;34m)\u001b[0m\u001b[0;34m\u001b[0m\u001b[0;34m\u001b[0m\u001b[0m\n\u001b[0m\u001b[1;32m    103\u001b[0m \u001b[0;34m\u001b[0m\u001b[0m\n\u001b[1;32m    104\u001b[0m     \u001b[0;32mdef\u001b[0m \u001b[0mcalculate_statistics\u001b[0m\u001b[0;34m(\u001b[0m\u001b[0mself\u001b[0m\u001b[0;34m,\u001b[0m \u001b[0msubgroup\u001b[0m\u001b[0;34m,\u001b[0m \u001b[0mdata\u001b[0m\u001b[0;34m=\u001b[0m\u001b[0;32mNone\u001b[0m\u001b[0;34m)\u001b[0m\u001b[0;34m:\u001b[0m\u001b[0;34m\u001b[0m\u001b[0;34m\u001b[0m\u001b[0m\n",
      "\u001b[0;32m/media/hannes/Volume1/Dropbox/Uni/Masterarbeit/code/py36_env/lib/python3.6/site-packages/pysubgroup-0.7.0-py3.6.egg/pysubgroup/numeric_target.py\u001b[0m in \u001b[0;36mstandard_qf_numeric\u001b[0;34m(a, _, mean_dataset, instances_subgroup, mean_sg)\u001b[0m\n\u001b[1;32m     67\u001b[0m     \u001b[0;34m@\u001b[0m\u001b[0mstaticmethod\u001b[0m\u001b[0;34m\u001b[0m\u001b[0;34m\u001b[0m\u001b[0m\n\u001b[1;32m     68\u001b[0m     \u001b[0;32mdef\u001b[0m \u001b[0mstandard_qf_numeric\u001b[0m\u001b[0;34m(\u001b[0m\u001b[0ma\u001b[0m\u001b[0;34m,\u001b[0m \u001b[0m_\u001b[0m\u001b[0;34m,\u001b[0m \u001b[0mmean_dataset\u001b[0m\u001b[0;34m,\u001b[0m \u001b[0minstances_subgroup\u001b[0m\u001b[0;34m,\u001b[0m \u001b[0mmean_sg\u001b[0m\u001b[0;34m)\u001b[0m\u001b[0;34m:\u001b[0m\u001b[0;34m\u001b[0m\u001b[0;34m\u001b[0m\u001b[0m\n\u001b[0;32m---> 69\u001b[0;31m         \u001b[0;32mreturn\u001b[0m \u001b[0minstances_subgroup\u001b[0m \u001b[0;34m**\u001b[0m \u001b[0ma\u001b[0m \u001b[0;34m*\u001b[0m \u001b[0;34m(\u001b[0m\u001b[0mmean_sg\u001b[0m \u001b[0;34m-\u001b[0m \u001b[0mmean_dataset\u001b[0m\u001b[0;34m)\u001b[0m\u001b[0;34m\u001b[0m\u001b[0;34m\u001b[0m\u001b[0m\n\u001b[0m\u001b[1;32m     70\u001b[0m \u001b[0;34m\u001b[0m\u001b[0m\n\u001b[1;32m     71\u001b[0m     \u001b[0;32mdef\u001b[0m \u001b[0m__init__\u001b[0m\u001b[0;34m(\u001b[0m\u001b[0mself\u001b[0m\u001b[0;34m,\u001b[0m \u001b[0ma\u001b[0m\u001b[0;34m,\u001b[0m \u001b[0minvert\u001b[0m\u001b[0;34m=\u001b[0m\u001b[0;32mFalse\u001b[0m\u001b[0;34m,\u001b[0m \u001b[0mestimator\u001b[0m\u001b[0;34m=\u001b[0m\u001b[0;34m'sum'\u001b[0m\u001b[0;34m)\u001b[0m\u001b[0;34m:\u001b[0m\u001b[0;34m\u001b[0m\u001b[0;34m\u001b[0m\u001b[0m\n",
      "\u001b[0;31mTypeError\u001b[0m: unsupported operand type(s) for -: 'method' and 'float'"
     ]
    }
   ],
   "source": [
    "ps_target = ps.NumericTarget('dominant_topic')\n",
    "ps_search_space = ps.create_selectors(data, ignore=['dominant_topic'])\n",
    "ps_task = ps.SubgroupDiscoveryTask(data, ps_target, ps_search_space, qf=ps.StandardQFNumeric(1))\n",
    "result = ps.BeamSearch().execute(ps_task)"
   ]
  },
  {
   "cell_type": "code",
   "execution_count": null,
   "metadata": {},
   "outputs": [],
   "source": []
  }
 ],
 "metadata": {
  "kernelspec": {
   "display_name": "Python 3",
   "language": "python",
   "name": "python3"
  },
  "language_info": {
   "codemirror_mode": {
    "name": "ipython",
    "version": 3
   },
   "file_extension": ".py",
   "mimetype": "text/x-python",
   "name": "python",
   "nbconvert_exporter": "python",
   "pygments_lexer": "ipython3",
   "version": "3.6.9"
  },
  "pycharm": {
   "stem_cell": {
    "cell_type": "raw",
    "metadata": {
     "collapsed": false
    },
    "source": []
   }
  }
 },
 "nbformat": 4,
 "nbformat_minor": 1
}
